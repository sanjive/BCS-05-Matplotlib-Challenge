{
 "cells": [
  {
   "cell_type": "markdown",
   "metadata": {},
   "source": [
    "## Observations and Insights"
   ]
  },
  {
   "cell_type": "markdown",
   "metadata": {},
   "source": [
    "# Inference and Observations:\n",
    "Noted, below are my inference and observations from the drug trial at a Pharmaceutical company, the Pymaceuticals Company. The data being analyzed is from the anti-cancer drug trials on mice for a potential treatment for squamous cell carcinoma (SCC), a commonly occurring form of skin cancer.\n",
    "\n",
    "## Inference:\n",
    "The drug Capomulin shows potential for treatment of the squamous cell carcinoma (SCC), a commonly occurring form of skin cancer and should be pursued further.\n",
    "\n",
    "## Observations:\n",
    "1. The study included mice in even ratio by sex. (Refer to the pie chart, distribution of the Female vs Male Mice. Male - 50.6% and Female - 49.4 %).\n",
    "2. The study produced a very consistent data with practically no outliers. (Based on the 4 Drugs that were plotted. Refer to the Box Plot, Drug Regimen - Tumor Volume)\n",
    "3. With Capomulin drug the tumor started shrinking after 20 days. (Refer to the line chart, Capomulin treatment of mouse l509)\n",
    "4. The bigger mice had larger Tumors (Refer to the Mouse Weight vs Tumor scatter plot, the linear equation and the positive Pearson Correlation Coefficient of 0.84)"
   ]
  },
  {
   "cell_type": "markdown",
   "metadata": {},
   "source": [
    "## Dependencies and starter code"
   ]
  },
  {
   "cell_type": "code",
   "execution_count": 1,
   "metadata": {},
   "outputs": [],
   "source": [
    "# Dependencies and Setup\n",
    "import matplotlib.pyplot as plt\n",
    "import pandas as pd\n",
    "import scipy.stats as st\n",
    "import numpy as np"
   ]
  },
  {
   "cell_type": "code",
   "execution_count": 2,
   "metadata": {},
   "outputs": [],
   "source": [
    "# Study data files\n",
    "mouse_metadata = \"data/Mouse_metadata.csv\"\n",
    "study_results = \"data/Study_results.csv\"\n",
    "\n",
    "# Read the mouse data and the study results\n",
    "mouse_df = pd.read_csv(mouse_metadata)\n",
    "results_df = pd.read_csv(study_results)"
   ]
  },
  {
   "cell_type": "code",
   "execution_count": 3,
   "metadata": {},
   "outputs": [
    {
     "data": {
      "text/html": [
       "<div>\n",
       "<style scoped>\n",
       "    .dataframe tbody tr th:only-of-type {\n",
       "        vertical-align: middle;\n",
       "    }\n",
       "\n",
       "    .dataframe tbody tr th {\n",
       "        vertical-align: top;\n",
       "    }\n",
       "\n",
       "    .dataframe thead th {\n",
       "        text-align: right;\n",
       "    }\n",
       "</style>\n",
       "<table border=\"1\" class=\"dataframe\">\n",
       "  <thead>\n",
       "    <tr style=\"text-align: right;\">\n",
       "      <th></th>\n",
       "      <th>Mouse ID</th>\n",
       "      <th>Timepoint</th>\n",
       "      <th>Tumor Volume (mm3)</th>\n",
       "      <th>Metastatic Sites</th>\n",
       "      <th>Drug Regimen</th>\n",
       "      <th>Sex</th>\n",
       "      <th>Age_months</th>\n",
       "      <th>Weight (g)</th>\n",
       "    </tr>\n",
       "  </thead>\n",
       "  <tbody>\n",
       "    <tr>\n",
       "      <th>count</th>\n",
       "      <td>1892</td>\n",
       "      <td>1892.000000</td>\n",
       "      <td>1892.000000</td>\n",
       "      <td>1892.000000</td>\n",
       "      <td>1892</td>\n",
       "      <td>1892</td>\n",
       "      <td>1892.000000</td>\n",
       "      <td>1892.000000</td>\n",
       "    </tr>\n",
       "    <tr>\n",
       "      <th>unique</th>\n",
       "      <td>249</td>\n",
       "      <td>NaN</td>\n",
       "      <td>NaN</td>\n",
       "      <td>NaN</td>\n",
       "      <td>10</td>\n",
       "      <td>2</td>\n",
       "      <td>NaN</td>\n",
       "      <td>NaN</td>\n",
       "    </tr>\n",
       "    <tr>\n",
       "      <th>top</th>\n",
       "      <td>g989</td>\n",
       "      <td>NaN</td>\n",
       "      <td>NaN</td>\n",
       "      <td>NaN</td>\n",
       "      <td>Capomulin</td>\n",
       "      <td>Male</td>\n",
       "      <td>NaN</td>\n",
       "      <td>NaN</td>\n",
       "    </tr>\n",
       "    <tr>\n",
       "      <th>freq</th>\n",
       "      <td>12</td>\n",
       "      <td>NaN</td>\n",
       "      <td>NaN</td>\n",
       "      <td>NaN</td>\n",
       "      <td>230</td>\n",
       "      <td>958</td>\n",
       "      <td>NaN</td>\n",
       "      <td>NaN</td>\n",
       "    </tr>\n",
       "    <tr>\n",
       "      <th>mean</th>\n",
       "      <td>NaN</td>\n",
       "      <td>19.582452</td>\n",
       "      <td>50.451260</td>\n",
       "      <td>1.022199</td>\n",
       "      <td>NaN</td>\n",
       "      <td>NaN</td>\n",
       "      <td>12.810254</td>\n",
       "      <td>25.662262</td>\n",
       "    </tr>\n",
       "    <tr>\n",
       "      <th>std</th>\n",
       "      <td>NaN</td>\n",
       "      <td>14.075984</td>\n",
       "      <td>8.896191</td>\n",
       "      <td>1.138032</td>\n",
       "      <td>NaN</td>\n",
       "      <td>NaN</td>\n",
       "      <td>7.189027</td>\n",
       "      <td>3.922652</td>\n",
       "    </tr>\n",
       "    <tr>\n",
       "      <th>min</th>\n",
       "      <td>NaN</td>\n",
       "      <td>0.000000</td>\n",
       "      <td>22.050126</td>\n",
       "      <td>0.000000</td>\n",
       "      <td>NaN</td>\n",
       "      <td>NaN</td>\n",
       "      <td>1.000000</td>\n",
       "      <td>15.000000</td>\n",
       "    </tr>\n",
       "    <tr>\n",
       "      <th>25%</th>\n",
       "      <td>NaN</td>\n",
       "      <td>5.000000</td>\n",
       "      <td>45.000000</td>\n",
       "      <td>0.000000</td>\n",
       "      <td>NaN</td>\n",
       "      <td>NaN</td>\n",
       "      <td>7.000000</td>\n",
       "      <td>25.000000</td>\n",
       "    </tr>\n",
       "    <tr>\n",
       "      <th>50%</th>\n",
       "      <td>NaN</td>\n",
       "      <td>20.000000</td>\n",
       "      <td>48.954697</td>\n",
       "      <td>1.000000</td>\n",
       "      <td>NaN</td>\n",
       "      <td>NaN</td>\n",
       "      <td>13.000000</td>\n",
       "      <td>27.000000</td>\n",
       "    </tr>\n",
       "    <tr>\n",
       "      <th>75%</th>\n",
       "      <td>NaN</td>\n",
       "      <td>30.000000</td>\n",
       "      <td>56.298917</td>\n",
       "      <td>2.000000</td>\n",
       "      <td>NaN</td>\n",
       "      <td>NaN</td>\n",
       "      <td>20.000000</td>\n",
       "      <td>29.000000</td>\n",
       "    </tr>\n",
       "    <tr>\n",
       "      <th>max</th>\n",
       "      <td>NaN</td>\n",
       "      <td>45.000000</td>\n",
       "      <td>78.567014</td>\n",
       "      <td>4.000000</td>\n",
       "      <td>NaN</td>\n",
       "      <td>NaN</td>\n",
       "      <td>24.000000</td>\n",
       "      <td>30.000000</td>\n",
       "    </tr>\n",
       "  </tbody>\n",
       "</table>\n",
       "</div>"
      ],
      "text/plain": [
       "       Mouse ID    Timepoint  Tumor Volume (mm3)  Metastatic Sites  \\\n",
       "count      1892  1892.000000         1892.000000       1892.000000   \n",
       "unique      249          NaN                 NaN               NaN   \n",
       "top        g989          NaN                 NaN               NaN   \n",
       "freq         12          NaN                 NaN               NaN   \n",
       "mean        NaN    19.582452           50.451260          1.022199   \n",
       "std         NaN    14.075984            8.896191          1.138032   \n",
       "min         NaN     0.000000           22.050126          0.000000   \n",
       "25%         NaN     5.000000           45.000000          0.000000   \n",
       "50%         NaN    20.000000           48.954697          1.000000   \n",
       "75%         NaN    30.000000           56.298917          2.000000   \n",
       "max         NaN    45.000000           78.567014          4.000000   \n",
       "\n",
       "       Drug Regimen   Sex   Age_months   Weight (g)  \n",
       "count          1892  1892  1892.000000  1892.000000  \n",
       "unique           10     2          NaN          NaN  \n",
       "top       Capomulin  Male          NaN          NaN  \n",
       "freq            230   958          NaN          NaN  \n",
       "mean            NaN   NaN    12.810254    25.662262  \n",
       "std             NaN   NaN     7.189027     3.922652  \n",
       "min             NaN   NaN     1.000000    15.000000  \n",
       "25%             NaN   NaN     7.000000    25.000000  \n",
       "50%             NaN   NaN    13.000000    27.000000  \n",
       "75%             NaN   NaN    20.000000    29.000000  \n",
       "max             NaN   NaN    24.000000    30.000000  "
      ]
     },
     "execution_count": 3,
     "metadata": {},
     "output_type": "execute_result"
    }
   ],
   "source": [
    "# Combine the data into a single dataset\n",
    "mouse_study_df = pd.merge(results_df, mouse_df, on='Mouse ID')\n",
    "# Drop any duplicate data (based on the complete data row)\n",
    "mouse_study_df = mouse_study_df.drop_duplicates(keep='first')\n",
    "mouse_study_df.describe(include='all')"
   ]
  },
  {
   "cell_type": "markdown",
   "metadata": {},
   "source": [
    "## Summary statistics"
   ]
  },
  {
   "cell_type": "code",
   "execution_count": 4,
   "metadata": {
    "scrolled": true
   },
   "outputs": [
    {
     "data": {
      "text/html": [
       "<div>\n",
       "<style scoped>\n",
       "    .dataframe tbody tr th:only-of-type {\n",
       "        vertical-align: middle;\n",
       "    }\n",
       "\n",
       "    .dataframe tbody tr th {\n",
       "        vertical-align: top;\n",
       "    }\n",
       "\n",
       "    .dataframe thead th {\n",
       "        text-align: right;\n",
       "    }\n",
       "</style>\n",
       "<table border=\"1\" class=\"dataframe\">\n",
       "  <thead>\n",
       "    <tr style=\"text-align: right;\">\n",
       "      <th></th>\n",
       "      <th>Mouse ID</th>\n",
       "      <th>Timepoint</th>\n",
       "      <th>Tumor Volume (mm3)</th>\n",
       "      <th>Metastatic Sites</th>\n",
       "      <th>Sex</th>\n",
       "      <th>Age_months</th>\n",
       "      <th>Weight (g)</th>\n",
       "      <th>Mean</th>\n",
       "      <th>Median</th>\n",
       "      <th>Variance</th>\n",
       "      <th>Std</th>\n",
       "      <th>SEM</th>\n",
       "    </tr>\n",
       "    <tr>\n",
       "      <th>Drug Regimen</th>\n",
       "      <th></th>\n",
       "      <th></th>\n",
       "      <th></th>\n",
       "      <th></th>\n",
       "      <th></th>\n",
       "      <th></th>\n",
       "      <th></th>\n",
       "      <th></th>\n",
       "      <th></th>\n",
       "      <th></th>\n",
       "      <th></th>\n",
       "      <th></th>\n",
       "    </tr>\n",
       "  </thead>\n",
       "  <tbody>\n",
       "    <tr>\n",
       "      <th>Capomulin</th>\n",
       "      <td>230</td>\n",
       "      <td>230</td>\n",
       "      <td>230</td>\n",
       "      <td>230</td>\n",
       "      <td>230</td>\n",
       "      <td>230</td>\n",
       "      <td>230</td>\n",
       "      <td>40.675741</td>\n",
       "      <td>41.557809</td>\n",
       "      <td>24.947764</td>\n",
       "      <td>4.994774</td>\n",
       "      <td>0.329346</td>\n",
       "    </tr>\n",
       "    <tr>\n",
       "      <th>Ceftamin</th>\n",
       "      <td>178</td>\n",
       "      <td>178</td>\n",
       "      <td>178</td>\n",
       "      <td>178</td>\n",
       "      <td>178</td>\n",
       "      <td>178</td>\n",
       "      <td>178</td>\n",
       "      <td>52.591172</td>\n",
       "      <td>51.776157</td>\n",
       "      <td>39.290177</td>\n",
       "      <td>6.268188</td>\n",
       "      <td>0.469821</td>\n",
       "    </tr>\n",
       "    <tr>\n",
       "      <th>Infubinol</th>\n",
       "      <td>178</td>\n",
       "      <td>178</td>\n",
       "      <td>178</td>\n",
       "      <td>178</td>\n",
       "      <td>178</td>\n",
       "      <td>178</td>\n",
       "      <td>178</td>\n",
       "      <td>52.884795</td>\n",
       "      <td>51.820584</td>\n",
       "      <td>43.128684</td>\n",
       "      <td>6.567243</td>\n",
       "      <td>0.492236</td>\n",
       "    </tr>\n",
       "    <tr>\n",
       "      <th>Ketapril</th>\n",
       "      <td>188</td>\n",
       "      <td>188</td>\n",
       "      <td>188</td>\n",
       "      <td>188</td>\n",
       "      <td>188</td>\n",
       "      <td>188</td>\n",
       "      <td>188</td>\n",
       "      <td>55.235638</td>\n",
       "      <td>53.698743</td>\n",
       "      <td>68.553577</td>\n",
       "      <td>8.279709</td>\n",
       "      <td>0.603860</td>\n",
       "    </tr>\n",
       "    <tr>\n",
       "      <th>Naftisol</th>\n",
       "      <td>186</td>\n",
       "      <td>186</td>\n",
       "      <td>186</td>\n",
       "      <td>186</td>\n",
       "      <td>186</td>\n",
       "      <td>186</td>\n",
       "      <td>186</td>\n",
       "      <td>54.331565</td>\n",
       "      <td>52.509285</td>\n",
       "      <td>66.173479</td>\n",
       "      <td>8.134708</td>\n",
       "      <td>0.596466</td>\n",
       "    </tr>\n",
       "    <tr>\n",
       "      <th>Placebo</th>\n",
       "      <td>181</td>\n",
       "      <td>181</td>\n",
       "      <td>181</td>\n",
       "      <td>181</td>\n",
       "      <td>181</td>\n",
       "      <td>181</td>\n",
       "      <td>181</td>\n",
       "      <td>54.033581</td>\n",
       "      <td>52.288934</td>\n",
       "      <td>61.168083</td>\n",
       "      <td>7.821003</td>\n",
       "      <td>0.581331</td>\n",
       "    </tr>\n",
       "    <tr>\n",
       "      <th>Propriva</th>\n",
       "      <td>160</td>\n",
       "      <td>160</td>\n",
       "      <td>160</td>\n",
       "      <td>160</td>\n",
       "      <td>160</td>\n",
       "      <td>160</td>\n",
       "      <td>160</td>\n",
       "      <td>52.368318</td>\n",
       "      <td>50.909965</td>\n",
       "      <td>42.278090</td>\n",
       "      <td>6.502160</td>\n",
       "      <td>0.514041</td>\n",
       "    </tr>\n",
       "    <tr>\n",
       "      <th>Ramicane</th>\n",
       "      <td>228</td>\n",
       "      <td>228</td>\n",
       "      <td>228</td>\n",
       "      <td>228</td>\n",
       "      <td>228</td>\n",
       "      <td>228</td>\n",
       "      <td>228</td>\n",
       "      <td>40.216745</td>\n",
       "      <td>40.673236</td>\n",
       "      <td>23.486704</td>\n",
       "      <td>4.846308</td>\n",
       "      <td>0.320955</td>\n",
       "    </tr>\n",
       "    <tr>\n",
       "      <th>Stelasyn</th>\n",
       "      <td>181</td>\n",
       "      <td>181</td>\n",
       "      <td>181</td>\n",
       "      <td>181</td>\n",
       "      <td>181</td>\n",
       "      <td>181</td>\n",
       "      <td>181</td>\n",
       "      <td>54.233149</td>\n",
       "      <td>52.431737</td>\n",
       "      <td>59.450562</td>\n",
       "      <td>7.710419</td>\n",
       "      <td>0.573111</td>\n",
       "    </tr>\n",
       "    <tr>\n",
       "      <th>Zoniferol</th>\n",
       "      <td>182</td>\n",
       "      <td>182</td>\n",
       "      <td>182</td>\n",
       "      <td>182</td>\n",
       "      <td>182</td>\n",
       "      <td>182</td>\n",
       "      <td>182</td>\n",
       "      <td>53.236507</td>\n",
       "      <td>51.818479</td>\n",
       "      <td>48.533355</td>\n",
       "      <td>6.966589</td>\n",
       "      <td>0.516398</td>\n",
       "    </tr>\n",
       "  </tbody>\n",
       "</table>\n",
       "</div>"
      ],
      "text/plain": [
       "              Mouse ID  Timepoint  Tumor Volume (mm3)  Metastatic Sites  Sex  \\\n",
       "Drug Regimen                                                                   \n",
       "Capomulin          230        230                 230               230  230   \n",
       "Ceftamin           178        178                 178               178  178   \n",
       "Infubinol          178        178                 178               178  178   \n",
       "Ketapril           188        188                 188               188  188   \n",
       "Naftisol           186        186                 186               186  186   \n",
       "Placebo            181        181                 181               181  181   \n",
       "Propriva           160        160                 160               160  160   \n",
       "Ramicane           228        228                 228               228  228   \n",
       "Stelasyn           181        181                 181               181  181   \n",
       "Zoniferol          182        182                 182               182  182   \n",
       "\n",
       "              Age_months  Weight (g)       Mean     Median   Variance  \\\n",
       "Drug Regimen                                                            \n",
       "Capomulin            230         230  40.675741  41.557809  24.947764   \n",
       "Ceftamin             178         178  52.591172  51.776157  39.290177   \n",
       "Infubinol            178         178  52.884795  51.820584  43.128684   \n",
       "Ketapril             188         188  55.235638  53.698743  68.553577   \n",
       "Naftisol             186         186  54.331565  52.509285  66.173479   \n",
       "Placebo              181         181  54.033581  52.288934  61.168083   \n",
       "Propriva             160         160  52.368318  50.909965  42.278090   \n",
       "Ramicane             228         228  40.216745  40.673236  23.486704   \n",
       "Stelasyn             181         181  54.233149  52.431737  59.450562   \n",
       "Zoniferol            182         182  53.236507  51.818479  48.533355   \n",
       "\n",
       "                   Std       SEM  \n",
       "Drug Regimen                      \n",
       "Capomulin     4.994774  0.329346  \n",
       "Ceftamin      6.268188  0.469821  \n",
       "Infubinol     6.567243  0.492236  \n",
       "Ketapril      8.279709  0.603860  \n",
       "Naftisol      8.134708  0.596466  \n",
       "Placebo       7.821003  0.581331  \n",
       "Propriva      6.502160  0.514041  \n",
       "Ramicane      4.846308  0.320955  \n",
       "Stelasyn      7.710419  0.573111  \n",
       "Zoniferol     6.966589  0.516398  "
      ]
     },
     "execution_count": 4,
     "metadata": {},
     "output_type": "execute_result"
    }
   ],
   "source": [
    "# Generate a summary statistics table of mean, median, variance, standard deviation, and SEM of the tumor volume for each regimen\n",
    "# Create a Summary DataFrame by \"Drug Regimen\"\n",
    "# Count of the \"Mouse ID\" for the \"Drug Regimen\" constitutes a \"Trial\"\n",
    "#tumor_summary_df['Trials'] = pd.DataFrame(mouse_study_df.groupby(['Drug Regimen'])['Mouse ID'].count())\n",
    "tumor_summary_df = pd.DataFrame(mouse_study_df.groupby(['Drug Regimen']).count())\n",
    "tumor_summary_df['Mean'] = pd.DataFrame(mouse_study_df.groupby(['Drug Regimen'])['Tumor Volume (mm3)'].mean())\n",
    "tumor_summary_df['Median'] = pd.DataFrame(mouse_study_df.groupby(['Drug Regimen'])['Tumor Volume (mm3)'].median())\n",
    "tumor_summary_df['Variance'] = pd.DataFrame(mouse_study_df.groupby(['Drug Regimen'])['Tumor Volume (mm3)'].var())\n",
    "tumor_summary_df['Std'] = pd.DataFrame(mouse_study_df.groupby(['Drug Regimen'])['Tumor Volume (mm3)'].std())\n",
    "tumor_summary_df['SEM'] = pd.DataFrame(mouse_study_df.groupby(['Drug Regimen'])['Tumor Volume (mm3)'].sem())\n",
    "\n",
    "#Display the tumor_summary_df DataFrame\n",
    "tumor_summary_df"
   ]
  },
  {
   "cell_type": "markdown",
   "metadata": {},
   "source": [
    "## Bar plots"
   ]
  },
  {
   "cell_type": "code",
   "execution_count": 5,
   "metadata": {
    "scrolled": true
   },
   "outputs": [
    {
     "data": {
      "image/png": "[encoded data removed]",
      "text/plain": [
       "<Figure size 720x432 with 1 Axes>"
      ]
     },
     "metadata": {
      "needs_background": "light"
     },
     "output_type": "display_data"
    },
    {
     "data": {
      "text/plain": [
       "<Figure size 432x288 with 0 Axes>"
      ]
     },
     "metadata": {},
     "output_type": "display_data"
    }
   ],
   "source": [
    "# Generate a bar plot showing number of data points for each treatment regimen using pandas\n",
    "# \"Number of Datapoints\" are the \"Trails\"\n",
    "datapoints = tumor_summary_df['Mouse ID']\n",
    "datapoints_pandas_chart = datapoints.plot(kind='bar', color='b' \\\n",
    "                                      ,title='Trials per Drug Regime' \\\n",
    "                                      ,subplots=False, figsize=(10,6) \\\n",
    "                                      ,grid=True, legend=True, width=0.6)\n",
    "plt_bar1 = plt.gcf()\n",
    "plt.show()\n",
    "plt.tight_layout()\n",
    "\n",
    "plt_bar1.savefig(\"./output/fig_01-bar_chart_pandas.png\", bbox_inches='tight')"
   ]
  },
  {
   "cell_type": "code",
   "execution_count": 6,
   "metadata": {},
   "outputs": [
    {
     "data": {
      "image/png": "[encoded data removed]",
      "text/plain": [
       "<Figure size 864x432 with 1 Axes>"
      ]
     },
     "metadata": {
      "needs_background": "light"
     },
     "output_type": "display_data"
    },
    {
     "data": {
      "text/plain": [
       "<Figure size 432x288 with 0 Axes>"
      ]
     },
     "metadata": {},
     "output_type": "display_data"
    }
   ],
   "source": [
    "# Generate a bar plot showing number of data points for each treatment regimen using pyplot\n",
    "x_axis = np.arange(len(datapoints))\n",
    "tick_locations =[i for i in x_axis]\n",
    "data = tumor_summary_df['Mouse ID']\n",
    "plt.figure(figsize=(12,6))\n",
    "\n",
    "plt.bar(x_axis, data, color='b', width=0.7, label='Trial')\n",
    "plt.xticks(tick_locations, data.index.values, rotation='vertical')\n",
    "plt.xlim(-0.75, len(x_axis)-0.25)\n",
    "plt.ylim(0, max(tumor_summary_df['Mouse ID'])+10)\n",
    "plt.grid(color='grey', linestyle='--', linewidth=1, axis='y', alpha=0.5)\n",
    "plt.xlabel('Drug Regimen')\n",
    "plt.ylabel('Number of Datapoints')\n",
    "plt.title('Trials per Drug Regimen')\n",
    "plt.legend=True\n",
    "\n",
    "plt_bar2 = plt.gcf()\n",
    "plt.show()\n",
    "plt.tight_layout()\n",
    "\n",
    "plt_bar2.savefig(\"./output/fig_02-bar_chart_pyplot.png\", bbox_inches='tight')"
   ]
  },
  {
   "cell_type": "markdown",
   "metadata": {},
   "source": [
    "## Pie plots"
   ]
  },
  {
   "cell_type": "code",
   "execution_count": 7,
   "metadata": {
    "scrolled": true
   },
   "outputs": [
    {
     "data": {
      "image/png": "[encoded data removed]",
      "text/plain": [
       "<Figure size 432x432 with 1 Axes>"
      ]
     },
     "metadata": {},
     "output_type": "display_data"
    },
    {
     "data": {
      "text/plain": [
       "<Figure size 432x288 with 0 Axes>"
      ]
     },
     "metadata": {},
     "output_type": "display_data"
    }
   ],
   "source": [
    "# Generate a pie plot showing the distribution of female versus male mice using pandas\n",
    "# df.plot(kind='pie',subplots=True,figsize=(10,10),startangle=45)\n",
    "tumor_sex_df = pd.DataFrame(mouse_study_df.groupby(['Sex'])['Mouse ID'].count())\n",
    "# Rename the column \"Mouse ID\" to \"Sex\" for labeling\n",
    "tumor_sex_df = tumor_sex_df.rename(columns={'Mouse ID': 'Sex'})\n",
    "\n",
    "# Plot the Pie chart using Pandas\n",
    "tumor_sex_df.plot(kind='pie', labels=tumor_sex_df.index.values, autopct=\"%1.1f%%\" \\\n",
    "                 ,subplots=True, figsize=(6,6), startangle=45, legend=True)\n",
    "\n",
    "plt.title(\"Distribution of Female vs Male Mice\")\n",
    "\n",
    "plt.savefig(\"./output/fig_03-pie_chart_pandas.png\", bbox_inches='tight')\n",
    "\n",
    "plt.show()\n",
    "plt.tight_layout()"
   ]
  },
  {
   "cell_type": "code",
   "execution_count": 8,
   "metadata": {},
   "outputs": [
    {
     "data": {
      "image/png": "[encoded data removed]",
      "text/plain": [
       "<Figure size 432x432 with 1 Axes>"
      ]
     },
     "metadata": {},
     "output_type": "display_data"
    },
    {
     "data": {
      "text/plain": [
       "<Figure size 432x288 with 0 Axes>"
      ]
     },
     "metadata": {},
     "output_type": "display_data"
    }
   ],
   "source": [
    "# Generate a pie plot showing the distribution of female versus male mice using pyplot\n",
    "values = tumor_sex_df['Sex'].values\n",
    "labels = tumor_sex_df['Sex'].index\n",
    "\n",
    "plt.figure(figsize=(6, 6))\n",
    "plt.title('Distribution of Female vs Male Mice')\n",
    "plt.pie(values, labels=labels, autopct=\"%1.1f%%\", startangle=45)\n",
    "plt.legend=True\n",
    "\n",
    "plt.savefig(\"./output/fig_04-pie_chart_pyplot.png\", bbox_inches='tight')\n",
    "\n",
    "plt.show()\n",
    "plt.tight_layout()"
   ]
  },
  {
   "cell_type": "markdown",
   "metadata": {},
   "source": [
    "## Quartiles, outliers and boxplots"
   ]
  },
  {
   "cell_type": "code",
   "execution_count": 9,
   "metadata": {},
   "outputs": [],
   "source": [
    "# Calculate the final tumor volume of each mouse across four of the most promising \n",
    "#  treatment regimens: Capomulin, Ramicane, Infubinol, and Ceftamin.\n",
    "# Calculate the quartiles and IQR and quantitatively determine if there \n",
    "#  are any potential outliers across all four treatment regimens."
   ]
  },
  {
   "cell_type": "code",
   "execution_count": 10,
   "metadata": {
    "scrolled": true
   },
   "outputs": [
    {
     "name": "stdout",
     "output_type": "stream",
     "text": [
      "The Quartile data for Capomulin Regimen is: \n",
      "     Lower Quartile = 32.37735684     \n",
      "     Upper Quartile = 40.1592203     \n",
      "     IQR            = 7.781863460000004    \n",
      "     Lower Bound    = 20.70456164999999     \n",
      "     Upper Bound    = 51.83201549     \n",
      "     Min Value      = 23.34359787\n",
      "     Max Value      = 47.68596303\n"
     ]
    },
    {
     "data": {
      "text/html": [
       "<div>\n",
       "<style scoped>\n",
       "    .dataframe tbody tr th:only-of-type {\n",
       "        vertical-align: middle;\n",
       "    }\n",
       "\n",
       "    .dataframe tbody tr th {\n",
       "        vertical-align: top;\n",
       "    }\n",
       "\n",
       "    .dataframe thead th {\n",
       "        text-align: right;\n",
       "    }\n",
       "</style>\n",
       "<table border=\"1\" class=\"dataframe\">\n",
       "  <thead>\n",
       "    <tr style=\"text-align: right;\">\n",
       "      <th></th>\n",
       "      <th>Mouse ID</th>\n",
       "      <th>Timepoint</th>\n",
       "      <th>Tumor Volume (mm3)</th>\n",
       "      <th>Metastatic Sites</th>\n",
       "      <th>Drug Regimen</th>\n",
       "      <th>Sex</th>\n",
       "      <th>Age_months</th>\n",
       "      <th>Weight (g)</th>\n",
       "    </tr>\n",
       "  </thead>\n",
       "  <tbody>\n",
       "  </tbody>\n",
       "</table>\n",
       "</div>"
      ],
      "text/plain": [
       "Empty DataFrame\n",
       "Columns: [Mouse ID, Timepoint, Tumor Volume (mm3), Metastatic Sites, Drug Regimen, Sex, Age_months, Weight (g)]\n",
       "Index: []"
      ]
     },
     "execution_count": 10,
     "metadata": {},
     "output_type": "execute_result"
    }
   ],
   "source": [
    "# Capomulin Regimen\n",
    "# Filter DataFrame to for Capomulin Regimen and proceed with the calculations\n",
    "capomulin_df = mouse_study_df.loc[mouse_study_df['Drug Regimen'].isin(['Capomulin'])]\n",
    "\n",
    "# Sort by DataFrame by 'Mouse ID' (Ascending) and 'Timpepoint' (Descending)\n",
    "capomulin_df = capomulin_df.sort_values(['Mouse ID','Timepoint'], ascending=[True, False])\n",
    "\n",
    "# Dropping duplicates, keeping first value, should be the latest timepoint per mouse\n",
    "capomulin_dd_df = capomulin_df.drop_duplicates(subset=['Mouse ID'], keep='first')\n",
    "\n",
    "# Determine quartiles\n",
    "quartiles = capomulin_dd_df['Tumor Volume (mm3)'].quantile([.25,.5,.75])\n",
    "lq = quartiles[0.25]      # Lower Quartile\n",
    "uq = quartiles[0.75]      # Upper Quartile\n",
    "iqr = uq-lq               # Inter Quartile Range\n",
    "\n",
    "# Determine upper and lower bounds\n",
    "lb = lq - (1.5*iqr)       # Lower Bound\n",
    "ub = uq + (1.5*iqr)       # Upper Bound\n",
    "\n",
    "# Determine Minimum and Maximum values\n",
    "# (This helps to know if any outliers are expected) \n",
    "min_val = min(capomulin_dd_df['Tumor Volume (mm3)'])   # Minimum Value\n",
    "max_val = max(capomulin_dd_df['Tumor Volume (mm3)'])   # Upper Value\n",
    "\n",
    "print(f'The Quartile data for Capomulin Regimen is: \\n \\\n",
    "    Lower Quartile = {lq}     \\n \\\n",
    "    Upper Quartile = {uq}     \\n \\\n",
    "    IQR            = {iqr}    \\n \\\n",
    "    Lower Bound    = {lb}     \\n \\\n",
    "    Upper Bound    = {ub}     \\n \\\n",
    "    Min Value      = {min_val}\\n \\\n",
    "    Max Value      = {max_val}')\n",
    "\n",
    "# Print a filtered dataframe of any outliers\n",
    "capomulin_outliers_df = capomulin_dd_df.loc[ (capomulin_dd_df['Tumor Volume (mm3)'] < lb) \n",
    "                                            |(capomulin_dd_df['Tumor Volume (mm3)'] > ub), :]\n",
    "capomulin_outliers_df"
   ]
  },
  {
   "cell_type": "code",
   "execution_count": 11,
   "metadata": {},
   "outputs": [
    {
     "data": {
      "image/png": "[encoded data removed]",
      "text/plain": [
       "<Figure size 432x216 with 1 Axes>"
      ]
     },
     "metadata": {
      "needs_background": "light"
     },
     "output_type": "display_data"
    }
   ],
   "source": [
    "fig1, ax1, = plt.subplots(1, figsize=(6,3))\n",
    "ax1.set_title('Tumor Volume by Capomulin Regimen')\n",
    "ax1.set_ylabel('Tumor Volume (mm³)')\n",
    "ax1.set_xticklabels(capomulin_dd_df['Drug Regimen'])\n",
    "ax1.grid(color='grey', ls='-.', lw=1,  alpha=0.2)\n",
    "\n",
    "line_props = dict(color='r', alpha=0.9)\n",
    "bbox_props = dict(facecolor='cyan', alpha=0.9, linestyle='dashdot')\n",
    "flier_props = dict( markerfacecolor='r', markeredgecolor='k'\n",
    "                   ,marker='o', markersize=15)\n",
    "\n",
    "plt.boxplot( capomulin_dd_df['Tumor Volume (mm3)'], patch_artist=True\n",
    "            ,whiskerprops=line_props,boxprops=bbox_props\n",
    "            ,flierprops=flier_props)\n",
    "plt.show()\n",
    "\n",
    "# Save the figure\n",
    "fig1.savefig('./output/fig_05-boxplot1_capomulin.png', bbox_inches='tight', dpi=300, transparent=True)"
   ]
  },
  {
   "cell_type": "code",
   "execution_count": 12,
   "metadata": {},
   "outputs": [
    {
     "name": "stdout",
     "output_type": "stream",
     "text": [
      "The Quartile data for Ramicane Regimen is: \n",
      "     Lower Quartile = 31.56046955     \n",
      "     Upper Quartile = 40.65900627     \n",
      "     IQR            = 9.098536719999998    \n",
      "     Lower Bound    = 17.912664470000003     \n",
      "     Upper Bound    = 54.30681135     \n",
      "     Min Value      = 22.05012627\n",
      "     Max Value      = 45.22086888\n"
     ]
    },
    {
     "data": {
      "text/html": [
       "<div>\n",
       "<style scoped>\n",
       "    .dataframe tbody tr th:only-of-type {\n",
       "        vertical-align: middle;\n",
       "    }\n",
       "\n",
       "    .dataframe tbody tr th {\n",
       "        vertical-align: top;\n",
       "    }\n",
       "\n",
       "    .dataframe thead th {\n",
       "        text-align: right;\n",
       "    }\n",
       "</style>\n",
       "<table border=\"1\" class=\"dataframe\">\n",
       "  <thead>\n",
       "    <tr style=\"text-align: right;\">\n",
       "      <th></th>\n",
       "      <th>Mouse ID</th>\n",
       "      <th>Timepoint</th>\n",
       "      <th>Tumor Volume (mm3)</th>\n",
       "      <th>Metastatic Sites</th>\n",
       "      <th>Drug Regimen</th>\n",
       "      <th>Sex</th>\n",
       "      <th>Age_months</th>\n",
       "      <th>Weight (g)</th>\n",
       "    </tr>\n",
       "  </thead>\n",
       "  <tbody>\n",
       "  </tbody>\n",
       "</table>\n",
       "</div>"
      ],
      "text/plain": [
       "Empty DataFrame\n",
       "Columns: [Mouse ID, Timepoint, Tumor Volume (mm3), Metastatic Sites, Drug Regimen, Sex, Age_months, Weight (g)]\n",
       "Index: []"
      ]
     },
     "execution_count": 12,
     "metadata": {},
     "output_type": "execute_result"
    }
   ],
   "source": [
    "# Ramicane Regimen\n",
    "# Filter DataFrame to for Ramicane Regimen and proceed with the calculations\n",
    "ramicane_df = mouse_study_df.loc[mouse_study_df['Drug Regimen'].isin(['Ramicane'])]\n",
    "\n",
    "# Sort by DataFrame by 'Mouse ID' (Ascending) and 'Timpepoint' (Descending)\n",
    "ramicane_df = ramicane_df.sort_values(['Mouse ID','Timepoint'], ascending=[True, False])\n",
    "\n",
    "# Dropping duplicates, keeping first value, should be the latest timepoint per mouse\n",
    "ramicane_dd_df = ramicane_df.drop_duplicates(subset=['Mouse ID'], keep='first')\n",
    "\n",
    "# Determine quartiles\n",
    "quartiles = ramicane_dd_df['Tumor Volume (mm3)'].quantile([.25,.5,.75])\n",
    "lq = quartiles[0.25]      # Lower Quartile\n",
    "uq = quartiles[0.75]      # Upper Quartile\n",
    "iqr = uq-lq               # Inter Quartile Range\n",
    "\n",
    "# Determine upper and lower bounds\n",
    "lb = lq - (1.5*iqr)       # Lower Bound\n",
    "ub = uq + (1.5*iqr)       # Upper Bound\n",
    "\n",
    "# Determine Minimum and Maximum values\n",
    "# (This helps to know if any outliers are expected) \n",
    "min_val = min(ramicane_dd_df['Tumor Volume (mm3)'])   # Minimum Value\n",
    "max_val = max(ramicane_dd_df['Tumor Volume (mm3)'])   # Upper Value\n",
    "\n",
    "print(f'The Quartile data for Ramicane Regimen is: \\n \\\n",
    "    Lower Quartile = {lq}     \\n \\\n",
    "    Upper Quartile = {uq}     \\n \\\n",
    "    IQR            = {iqr}    \\n \\\n",
    "    Lower Bound    = {lb}     \\n \\\n",
    "    Upper Bound    = {ub}     \\n \\\n",
    "    Min Value      = {min_val}\\n \\\n",
    "    Max Value      = {max_val}')\n",
    "\n",
    "# Print a filtered dataframe of any outliers\n",
    "ramicane_outliers_df = ramicane_dd_df.loc[ (ramicane_dd_df['Tumor Volume (mm3)'] < lb) \n",
    "                                          |(ramicane_dd_df['Tumor Volume (mm3)'] > ub), :]\n",
    "ramicane_outliers_df"
   ]
  },
  {
   "cell_type": "code",
   "execution_count": 13,
   "metadata": {},
   "outputs": [
    {
     "data": {
      "image/png": "[encoded data removed]",
      "text/plain": [
       "<Figure size 432x216 with 1 Axes>"
      ]
     },
     "metadata": {
      "needs_background": "light"
     },
     "output_type": "display_data"
    }
   ],
   "source": [
    "fig2, ax2, = plt.subplots(1, figsize=(6,3))\n",
    "ax2.set_title('Tumor Volume by Ramicane Regimen')\n",
    "ax2.set_ylabel('Tumor Volume (mm³)')\n",
    "ax2.set_xticklabels(ramicane_dd_df['Drug Regimen'])\n",
    "ax2.grid(color='grey', ls='-.', lw=1,  alpha=0.2)\n",
    "\n",
    "line_props = dict(color='r', alpha=0.9)\n",
    "bbox_props = dict(facecolor='lightblue', alpha=0.9, linestyle='dashdot')\n",
    "flier_props = dict( markerfacecolor='r', markeredgecolor='k'\n",
    "                   ,marker='o', markersize=15)\n",
    "\n",
    "plt.boxplot( ramicane_dd_df['Tumor Volume (mm3)'], patch_artist=True\n",
    "            ,whiskerprops=line_props,boxprops=bbox_props\n",
    "            ,flierprops=flier_props)\n",
    "plt.show()\n",
    "\n",
    "# Save the figure\n",
    "fig2.savefig('./output/fig_06-boxplot2_ramicane.png', bbox_inches='tight', dpi=300, transparent=True)"
   ]
  },
  {
   "cell_type": "code",
   "execution_count": 14,
   "metadata": {},
   "outputs": [
    {
     "name": "stdout",
     "output_type": "stream",
     "text": [
      "The Quartile data for Infubinol Regimen is: \n",
      "     Lower Quartile = 54.04860769     \n",
      "     Upper Quartile = 65.52574285     \n",
      "     IQR            = 11.477135160000003    \n",
      "     Lower Bound    = 36.83290494999999     \n",
      "     Upper Bound    = 82.74144559000001     \n",
      "     Min Value      = 36.321345799999996\n",
      "     Max Value      = 72.2267309\n"
     ]
    }
   ],
   "source": [
    "# Infubinol Regimen\n",
    "# Filter DataFrame to for Ramicane Regimen and proceed with the calculations\n",
    "infubinol_df = mouse_study_df.loc[mouse_study_df['Drug Regimen'].isin(['Infubinol'])]\n",
    "\n",
    "# Sort by DataFrame by 'Mouse ID' (Ascending) and 'Timpepoint' (Descending)\n",
    "infubinol_df = infubinol_df.sort_values(['Mouse ID','Timepoint'], ascending=[True, False])\n",
    "\n",
    "# Dropping duplicates, keeping first value, should be the latest timepoint per mouse\n",
    "infubinol_dd_df = infubinol_df.drop_duplicates(subset=['Mouse ID'], keep='first')\n",
    "\n",
    "# Determine quartiles\n",
    "quartiles = infubinol_dd_df['Tumor Volume (mm3)'].quantile([.25,.5,.75])\n",
    "lq = quartiles[0.25]      # Lower Quartile\n",
    "uq = quartiles[0.75]      # Upper Quartile\n",
    "iqr = uq-lq               # Inter Quartile Range\n",
    "\n",
    "# Determine upper and lower bounds\n",
    "lb = lq - (1.5*iqr)       # Lower Bound\n",
    "ub = uq + (1.5*iqr)       # Upper Bound\n",
    "\n",
    "# Determine Minimum and Maximum values\n",
    "# (This helps to know if any outliers are expected) \n",
    "min_val = min(infubinol_dd_df['Tumor Volume (mm3)'])   # Minimum Value\n",
    "max_val = max(infubinol_dd_df['Tumor Volume (mm3)'])   # Upper Value\n",
    "\n",
    "print(f'The Quartile data for Infubinol Regimen is: \\n \\\n",
    "    Lower Quartile = {lq}     \\n \\\n",
    "    Upper Quartile = {uq}     \\n \\\n",
    "    IQR            = {iqr}    \\n \\\n",
    "    Lower Bound    = {lb}     \\n \\\n",
    "    Upper Bound    = {ub}     \\n \\\n",
    "    Min Value      = {min_val}\\n \\\n",
    "    Max Value      = {max_val}')\n",
    "\n",
    "# Print a filtered dataframe of any outliers\n",
    "infubinol_outliers_df = infubinol_dd_df.loc[ (infubinol_dd_df['Tumor Volume (mm3)'] < lb) \n",
    "                                            |(infubinol_dd_df['Tumor Volume (mm3)'] > ub), :]"
   ]
  },
  {
   "cell_type": "code",
   "execution_count": 15,
   "metadata": {},
   "outputs": [
    {
     "data": {
      "image/png": "[encoded data removed]",
      "text/plain": [
       "<Figure size 432x216 with 1 Axes>"
      ]
     },
     "metadata": {
      "needs_background": "light"
     },
     "output_type": "display_data"
    }
   ],
   "source": [
    "fig3, ax3, = plt.subplots(1, figsize=(6,3))\n",
    "ax3.set_title('Tumor Volume by Infubinol Regimen')\n",
    "ax3.set_ylabel('Tumor Volume (mm³)')\n",
    "ax3.set_xticklabels(infubinol_dd_df['Drug Regimen'])\n",
    "ax3.grid(color='grey', ls='-.', lw=1,  alpha=0.2)\n",
    "\n",
    "line_props = dict(color='r', alpha=0.9)\n",
    "bbox_props = dict(facecolor='lightgreen', alpha=0.9, linestyle='dashdot')\n",
    "flier_props = dict( markerfacecolor='r', markeredgecolor='k'\n",
    "                   ,marker='o', markersize=15)\n",
    "\n",
    "plt.boxplot( infubinol_dd_df['Tumor Volume (mm3)'], patch_artist=True\n",
    "            ,whiskerprops=line_props,boxprops=bbox_props\n",
    "            ,flierprops=flier_props)\n",
    "plt.show()\n",
    "\n",
    "# Save the figure\n",
    "fig3.savefig('./output/fig_07-boxplot3_infubinol.png', bbox_inches='tight', dpi=300, transparent=True)"
   ]
  },
  {
   "cell_type": "code",
   "execution_count": 16,
   "metadata": {},
   "outputs": [
    {
     "name": "stdout",
     "output_type": "stream",
     "text": [
      "The Quartile data for Ceftamin Regimen is: \n",
      "     Lower Quartile = 48.72207785     \n",
      "     Upper Quartile = 64.29983003     \n",
      "     IQR            = 15.577752179999997    \n",
      "     Lower Bound    = 25.355449580000002     \n",
      "     Upper Bound    = 87.66645829999999     \n",
      "     Min Value      = 45.0\n",
      "     Max Value      = 68.92318457\n"
     ]
    },
    {
     "data": {
      "text/html": [
       "<div>\n",
       "<style scoped>\n",
       "    .dataframe tbody tr th:only-of-type {\n",
       "        vertical-align: middle;\n",
       "    }\n",
       "\n",
       "    .dataframe tbody tr th {\n",
       "        vertical-align: top;\n",
       "    }\n",
       "\n",
       "    .dataframe thead th {\n",
       "        text-align: right;\n",
       "    }\n",
       "</style>\n",
       "<table border=\"1\" class=\"dataframe\">\n",
       "  <thead>\n",
       "    <tr style=\"text-align: right;\">\n",
       "      <th></th>\n",
       "      <th>Mouse ID</th>\n",
       "      <th>Timepoint</th>\n",
       "      <th>Tumor Volume (mm3)</th>\n",
       "      <th>Metastatic Sites</th>\n",
       "      <th>Drug Regimen</th>\n",
       "      <th>Sex</th>\n",
       "      <th>Age_months</th>\n",
       "      <th>Weight (g)</th>\n",
       "    </tr>\n",
       "  </thead>\n",
       "  <tbody>\n",
       "  </tbody>\n",
       "</table>\n",
       "</div>"
      ],
      "text/plain": [
       "Empty DataFrame\n",
       "Columns: [Mouse ID, Timepoint, Tumor Volume (mm3), Metastatic Sites, Drug Regimen, Sex, Age_months, Weight (g)]\n",
       "Index: []"
      ]
     },
     "execution_count": 16,
     "metadata": {},
     "output_type": "execute_result"
    }
   ],
   "source": [
    "# Ceftamin Regimen\n",
    "# Filter DataFrame to for Ramicane Regimen and proceed with the calculations\n",
    "ceftamin_df = mouse_study_df.loc[mouse_study_df['Drug Regimen'].isin(['Ceftamin'])]\n",
    "\n",
    "# Sort by DataFrame by 'Mouse ID' (Ascending) and 'Timpepoint' (Descending)\n",
    "ceftamin_df = ceftamin_df.sort_values(['Mouse ID','Timepoint'], ascending=[True, False])\n",
    "\n",
    "# Dropping duplicates, keeping first value, should be the latest timepoint per mouse\n",
    "ceftamin_dd_df = ceftamin_df.drop_duplicates(subset=['Mouse ID'], keep='first')\n",
    "\n",
    "# Determine quartiles\n",
    "quartiles = ceftamin_dd_df['Tumor Volume (mm3)'].quantile([.25,.5,.75])\n",
    "lq = quartiles[0.25]      # Lower Quartile\n",
    "uq = quartiles[0.75]      # Upper Quartile\n",
    "iqr = uq-lq               # Inter Quartile Range\n",
    "\n",
    "# Determine upper and lower bounds\n",
    "lb = lq - (1.5*iqr)       # Lower Bound\n",
    "ub = uq + (1.5*iqr)       # Upper Bound\n",
    "\n",
    "# Determine Minimum and Maximum values\n",
    "# (This helps to know if any outliers are expected) \n",
    "min_val = min(ceftamin_dd_df['Tumor Volume (mm3)'])   # Minimum Value\n",
    "max_val = max(ceftamin_dd_df['Tumor Volume (mm3)'])   # Upper Value\n",
    "\n",
    "print(f'The Quartile data for Ceftamin Regimen is: \\n \\\n",
    "    Lower Quartile = {lq}     \\n \\\n",
    "    Upper Quartile = {uq}     \\n \\\n",
    "    IQR            = {iqr}    \\n \\\n",
    "    Lower Bound    = {lb}     \\n \\\n",
    "    Upper Bound    = {ub}     \\n \\\n",
    "    Min Value      = {min_val}\\n \\\n",
    "    Max Value      = {max_val}')\n",
    "\n",
    "# Print a filtered dataframe of any outliers\n",
    "ceftamin_outliers_df = ceftamin_dd_df.loc[ (ceftamin_dd_df['Tumor Volume (mm3)'] < lb) \n",
    "                                          |(ceftamin_dd_df['Tumor Volume (mm3)'] > ub), :]\n",
    "ceftamin_outliers_df"
   ]
  },
  {
   "cell_type": "code",
   "execution_count": 17,
   "metadata": {
    "scrolled": true
   },
   "outputs": [
    {
     "data": {
      "image/png": "[encoded data removed]",
      "text/plain": [
       "<Figure size 432x216 with 1 Axes>"
      ]
     },
     "metadata": {
      "needs_background": "light"
     },
     "output_type": "display_data"
    }
   ],
   "source": [
    "fig4, ax4, = plt.subplots(1, figsize=(6, 3))\n",
    "ax4.set_title('Tumor Volume by Ceftamin Regimen')\n",
    "ax4.set_ylabel('Tumor Volume (mm³)')\n",
    "ax4.set_xticklabels(ceftamin_dd_df['Drug Regimen'])\n",
    "ax4.grid(color='grey', ls='-.', lw=1,  alpha=0.2)\n",
    "\n",
    "\n",
    "line_props = dict(color='r', alpha=0.9)\n",
    "bbox_props = dict(facecolor='tan', alpha=0.9, linestyle='dashdot')\n",
    "flier_props = dict( markerfacecolor='r', markeredgecolor='k'\n",
    "                   ,marker='o', markersize=15)\n",
    "\n",
    "plt.boxplot( ceftamin_dd_df['Tumor Volume (mm3)'], patch_artist=True\n",
    "            ,whiskerprops=line_props,boxprops=bbox_props\n",
    "            ,flierprops=flier_props)\n",
    "plt.show()\n",
    "\n",
    "# Save the figure\n",
    "fig4.savefig('./output/fig_08-boxplot4_ceftamin.png', bbox_inches='tight', dpi=300, transparent=True)"
   ]
  },
  {
   "cell_type": "code",
   "execution_count": 18,
   "metadata": {},
   "outputs": [
    {
     "data": {
      "image/png": "[encoded data removed]",
      "text/plain": [
       "<Figure size 648x432 with 1 Axes>"
      ]
     },
     "metadata": {
      "needs_background": "light"
     },
     "output_type": "display_data"
    }
   ],
   "source": [
    "# Generate a box plot of the final tumor volume of each mouse across four regimens of interest\n",
    "\n",
    "# create a list of the 4 DataFrames for creating a one Box Plot woth 4 set of values.\n",
    "combined_plot = [ capomulin_dd_df['Tumor Volume (mm3)']\n",
    "                 ,ramicane_dd_df['Tumor Volume (mm3)']\n",
    "                 ,infubinol_dd_df['Tumor Volume (mm3)']\n",
    "                 ,ceftamin_dd_df['Tumor Volume (mm3)']]\n",
    "\n",
    "fig, ax, = plt.subplots(1, figsize=(9, 6))\n",
    "\n",
    "ax.set_title('Drug Regimen - Tumor Volume')\n",
    "ax.set_ylabel('Tumor Volume (mm³)')\n",
    "ax.set_xticklabels([ max(capomulin_dd_df['Drug Regimen'])\n",
    "                    ,max(ramicane_dd_df['Drug Regimen'])\n",
    "                    ,max(infubinol_dd_df['Drug Regimen'])\n",
    "                    ,max(ceftamin_dd_df['Drug Regimen'])])\n",
    "ax.grid(color='grey', ls='--', lw=1,  alpha=0.3)\n",
    "\n",
    "\n",
    "line_props = dict(color='r', alpha=0.9)\n",
    "bbox_props = dict(alpha=0.9, linestyle=\"dashdot\")\n",
    "flier_props = dict(markerfacecolor='r', markeredgecolor='k', marker=\"o\", markersize=15)\n",
    "    \n",
    "# Create the boxplot\n",
    "bp = ax.boxplot( combined_plot, patch_artist=True, whiskerprops=line_props\n",
    "                ,boxprops=bbox_props, flierprops=flier_props)\n",
    "\n",
    "#Set the colors for the Box Props\n",
    "colors = ['cyan', 'lightblue', 'lightgreen', 'tan']\n",
    "for patch, color in zip(bp['boxes'], colors):\n",
    "    patch.set_facecolor(color)\n",
    "\n",
    "# Save the figure\n",
    "fig.savefig('./output/fig_09-boxplot5_combined.png', bbox_inches='tight', dpi=300, transparent=True)"
   ]
  },
  {
   "cell_type": "markdown",
   "metadata": {},
   "source": [
    "## Line and scatter plots"
   ]
  },
  {
   "cell_type": "code",
   "execution_count": 19,
   "metadata": {},
   "outputs": [
    {
     "data": {
      "image/png": "[encoded data removed]",
      "text/plain": [
       "<Figure size 648x432 with 1 Axes>"
      ]
     },
     "metadata": {
      "needs_background": "light"
     },
     "output_type": "display_data"
    }
   ],
   "source": [
    "# Generate a line plot of time point versus tumor volume for a mouse treated with Capomulin\n",
    "# Use data for 'Mouse ID' = l509\n",
    "\n",
    "# Filter DataFrame to for Capomulin Regimen and proceed with the calculations\n",
    "l509_df = mouse_study_df.loc[  mouse_study_df['Drug Regimen'].isin(['Capomulin']) \n",
    "                             & mouse_study_df['Mouse ID'].isin(['l509'])]\n",
    "\n",
    "# Set variables to hold relevant data\n",
    "timepoint = l509_df['Timepoint']\n",
    "tumor_volume = l509_df['Tumor Volume (mm3)']\n",
    "\n",
    "# Plot the tumor volume for various mice\n",
    "line_fig, line_ax, = plt.subplots(1, figsize=(9, 6))\n",
    "line_ax.plot(timepoint, tumor_volume)\n",
    "line_ax.grid(color='grey', ls='-.', lw=1,  alpha=0.2)\n",
    "\n",
    "# Show the chart, add labels\n",
    "plt.xlabel('Timepoint (days)')\n",
    "plt.ylabel('Tumor Volume (mm³)')\n",
    "plt.title('Capomulin treatment of Mouse l509')\n",
    "plt.show()\n",
    "\n",
    "# Save the figure\n",
    "line_fig.savefig('./output/fig_10-lineplot_capomulin.png', bbox_inches='tight', dpi=300, transparent=True)"
   ]
  },
  {
   "cell_type": "code",
   "execution_count": 20,
   "metadata": {},
   "outputs": [
    {
     "data": {
      "image/png": "[encoded data removed]",
      "text/plain": [
       "<Figure size 648x432 with 1 Axes>"
      ]
     },
     "metadata": {
      "needs_background": "light"
     },
     "output_type": "display_data"
    }
   ],
   "source": [
    "# Generate a scatter plot of mouse weight versus average tumor volume for the Capomulin regimen\n",
    "\n",
    "# Filter DataFrame to for Capomulin Regimen and proceed with the calculations\n",
    "# Since the data is duplicated for the mouse (by Mouse ID),\n",
    "#  mean() can be used for calculation.\n",
    "\n",
    "# Set variables to hold relevant data\n",
    "cap_mouse_weight = capomulin_df.groupby(capomulin_df['Mouse ID'])['Weight (g)'].mean()\n",
    "cap_tumor_volume = capomulin_df.groupby(capomulin_df['Mouse ID'])['Tumor Volume (mm3)'].mean()\n",
    "\n",
    "# Create a Scatter plot of Mouse Weight vs Tumor Volume for the mice\n",
    "line_fig2, line_ax2, = plt.subplots(1, figsize=(9, 6))\n",
    "line_ax2.scatter(cap_mouse_weight, cap_tumor_volume)\n",
    "line_ax2.grid(color='grey', ls='-.', lw=1,  alpha=0.2)\n",
    "\n",
    "# Show the chart, add labels\n",
    "plt.xlabel('Weight of Mouse (gm)')\n",
    "plt.ylabel('Tumor Volume (mm³)')\n",
    "plt.title('Mouse Weight vs Tumor Volume')\n",
    "plt.show()\n",
    "\n",
    "# Save the figure\n",
    "line_fig2.savefig('./output/fig_11-scatterplot1_weigth_tumor.png', bbox_inches='tight', dpi=300, transparent=True)"
   ]
  },
  {
   "cell_type": "code",
   "execution_count": 21,
   "metadata": {},
   "outputs": [
    {
     "data": {
      "image/png": "[encoded data removed]",
      "text/plain": [
       "<Figure size 648x432 with 1 Axes>"
      ]
     },
     "metadata": {
      "needs_background": "light"
     },
     "output_type": "display_data"
    },
    {
     "name": "stdout",
     "output_type": "stream",
     "text": [
      "The Pearson Correlation Coefficient value for Mouse Weight and Tumor Volume is: 0.84\n"
     ]
    }
   ],
   "source": [
    "# Calculate the correlation coefficient and linear regression model \n",
    "#  for mouse weight and average tumor volume for the Capomulin regimen\n",
    "\n",
    "# Use the mouse weight and the tumor volume data from the above cell\n",
    "\n",
    "# Perform a linear regression on year versus violent crime rate\n",
    "slope, intercept, r, p, std_err = st.linregress(cap_mouse_weight, cap_tumor_volume)\n",
    "\n",
    "# Calculate correlation coefficient\n",
    "corr = round(st.pearsonr(cap_mouse_weight,cap_tumor_volume)[0],2)\n",
    "\n",
    "# Create equation of line to calculate predicted violent crime rate\n",
    "fit = slope * cap_mouse_weight + intercept\n",
    "# Variable to hold the Line Equation and the PCC\n",
    "line_eq_pcc =  \"    y = \" + str(round(slope,2)) + \"x + \" + str(round(intercept,2)) \\\n",
    "             + \"\\nPCC = \" + str(round(corr,2))\n",
    "\n",
    "# Create a Scatter plot of Mouse Weight vs Tumor Volume for the mice\n",
    "line_fig3, line_ax3, = plt.subplots(1, figsize=(9, 6))\n",
    "line_ax3.scatter(cap_mouse_weight, cap_tumor_volume)\n",
    "\n",
    "# Show the chart, add labels\n",
    "plt.xlabel('Weight of Mouse (gm)')\n",
    "plt.ylabel('Tumor Volume (mm³)')\n",
    "plt.title('Mouse Weight vs Tumor Volume')\n",
    "plt.annotate(line_eq_pcc, (18,38), fontsize=10, color='r')\n",
    "\n",
    "# Plot the linear model on top of scatter plot \n",
    "plt.plot(cap_mouse_weight,fit,\"r--\")\n",
    "plt.xticks(cap_mouse_weight, rotation=90)\n",
    "line_ax3.grid(color='grey', ls='-.', lw=1,  alpha=0.2)\n",
    "\n",
    "plt.show()\n",
    "# Save the figure\n",
    "line_fig3.savefig('./output/fig_12-scatterplot2_pcc.png', bbox_inches='tight', dpi=300, transparent=True)\n",
    "\n",
    "print(f'The Pearson Correlation Coefficient value for Mouse Weight and Tumor Volume is: {corr:.2}')"
   ]
  }
 ],
 "metadata": {
  "anaconda-cloud": {},
  "kernelspec": {
   "display_name": "Python 3.7.6 64-bit ('PythonData2020_1': conda)",
   "language": "python",
   "name": "python37664bitpythondata20201conda6baabde948e8485c8acdbdb1f5c8dec5"
  },
  "language_info": {
   "codemirror_mode": {
    "name": "ipython",
    "version": 3
   },
   "file_extension": ".py",
   "mimetype": "text/x-python",
   "name": "python",
   "nbconvert_exporter": "python",
   "pygments_lexer": "ipython3",
   "version": "3.7.7"
  }
 },
 "nbformat": 4,
 "nbformat_minor": 2
}
